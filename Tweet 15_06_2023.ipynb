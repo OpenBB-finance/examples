{
 "cells": [
  {
   "cell_type": "code",
   "execution_count": 88,
   "id": "c918db9c-6df9-4c18-a0da-019547ff2997",
   "metadata": {},
   "outputs": [
    {
     "data": {
      "text/html": [
       "<div>\n",
       "<style scoped>\n",
       "    .dataframe tbody tr th:only-of-type {\n",
       "        vertical-align: middle;\n",
       "    }\n",
       "\n",
       "    .dataframe tbody tr th {\n",
       "        vertical-align: top;\n",
       "    }\n",
       "\n",
       "    .dataframe thead th {\n",
       "        text-align: right;\n",
       "    }\n",
       "</style>\n",
       "<table border=\"1\" class=\"dataframe\">\n",
       "  <thead>\n",
       "    <tr style=\"text-align: right;\">\n",
       "      <th></th>\n",
       "      <th>0</th>\n",
       "    </tr>\n",
       "  </thead>\n",
       "  <tbody>\n",
       "    <tr>\n",
       "      <th>Market capitalization</th>\n",
       "      <td>774.627 B</td>\n",
       "    </tr>\n",
       "    <tr>\n",
       "      <th>EBITDA</th>\n",
       "      <td>16.666 B</td>\n",
       "    </tr>\n",
       "    <tr>\n",
       "      <th>EPS</th>\n",
       "      <td>3.397</td>\n",
       "    </tr>\n",
       "    <tr>\n",
       "      <th>PE ratio</th>\n",
       "      <td>65.54</td>\n",
       "    </tr>\n",
       "    <tr>\n",
       "      <th>PEG ratio</th>\n",
       "      <td>1.281</td>\n",
       "    </tr>\n",
       "    <tr>\n",
       "      <th>Price to book ratio</th>\n",
       "      <td>12.42</td>\n",
       "    </tr>\n",
       "    <tr>\n",
       "      <th>Return on equity TTM</th>\n",
       "      <td>28.7</td>\n",
       "    </tr>\n",
       "    <tr>\n",
       "      <th>Price to sales ratio TTM</th>\n",
       "      <td>6.65</td>\n",
       "    </tr>\n",
       "    <tr>\n",
       "      <th>Dividend yield</th>\n",
       "      <td>0</td>\n",
       "    </tr>\n",
       "    <tr>\n",
       "      <th>50 day moving average</th>\n",
       "      <td>183.93</td>\n",
       "    </tr>\n",
       "    <tr>\n",
       "      <th>Analyst target price</th>\n",
       "      <td>182.24</td>\n",
       "    </tr>\n",
       "    <tr>\n",
       "      <th>Beta</th>\n",
       "      <td>2.003</td>\n",
       "    </tr>\n",
       "  </tbody>\n",
       "</table>\n",
       "</div>"
      ],
      "text/plain": [
       "                                  0\n",
       "Market capitalization     774.627 B\n",
       "EBITDA                     16.666 B\n",
       "EPS                           3.397\n",
       "PE ratio                      65.54\n",
       "PEG ratio                     1.281\n",
       "Price to book ratio           12.42\n",
       "Return on equity TTM           28.7\n",
       "Price to sales ratio TTM       6.65\n",
       "Dividend yield                    0\n",
       "50 day moving average        183.93\n",
       "Analyst target price         182.24\n",
       "Beta                          2.003"
      ]
     },
     "execution_count": 88,
     "metadata": {},
     "output_type": "execute_result"
    }
   ],
   "source": [
    "import pandas as pd\n",
    "from openbb_terminal.sdk import openbb"
   ]
  },
  {
   "attachments": {},
   "cell_type": "markdown",
   "id": "a59d3f5c-f3ef-40d2-9e2a-cc757a281cae",
   "metadata": {},
   "source": [
    "<h1>Tweet 15-06-2023</h1>\n",
    "\n",
    "When valuing a stock or security, discounted cash flow gives you a good indicator of the expected moneyflow of the company for a given period of time in the future.\n",
    "\n",
    "Trust that the #OpenBB SDK has got your back on all your financial research needs."
   ]
  },
  {
   "cell_type": "code",
   "execution_count": 73,
   "id": "131ac057-fdb3-4f8b-8588-6eb63cd66dfe",
   "metadata": {},
   "outputs": [
    {
     "data": {
      "text/html": [
       "<div>\n",
       "<style scoped>\n",
       "    .dataframe tbody tr th:only-of-type {\n",
       "        vertical-align: middle;\n",
       "    }\n",
       "\n",
       "    .dataframe tbody tr th {\n",
       "        vertical-align: top;\n",
       "    }\n",
       "\n",
       "    .dataframe thead th {\n",
       "        text-align: right;\n",
       "    }\n",
       "</style>\n",
       "<table border=\"1\" class=\"dataframe\">\n",
       "  <thead>\n",
       "    <tr style=\"text-align: right;\">\n",
       "      <th>Fiscal Date Ending</th>\n",
       "      <th>2023</th>\n",
       "      <th>2021</th>\n",
       "      <th>2020</th>\n",
       "      <th>2019</th>\n",
       "      <th>2018</th>\n",
       "    </tr>\n",
       "  </thead>\n",
       "  <tbody>\n",
       "    <tr>\n",
       "      <th>Date</th>\n",
       "      <td>2023-06-11</td>\n",
       "      <td>2021-12-31</td>\n",
       "      <td>2020-12-31</td>\n",
       "      <td>2019-12-31</td>\n",
       "      <td>2018-12-31</td>\n",
       "    </tr>\n",
       "    <tr>\n",
       "      <th>Stock price</th>\n",
       "      <td>13.740</td>\n",
       "      <td>19.540</td>\n",
       "      <td>10.530</td>\n",
       "      <td>8.840</td>\n",
       "      <td>8.710</td>\n",
       "    </tr>\n",
       "    <tr>\n",
       "      <th>DCF</th>\n",
       "      <td>20.002</td>\n",
       "      <td>24.710</td>\n",
       "      <td>16.884</td>\n",
       "      <td>13.247</td>\n",
       "      <td>12.938</td>\n",
       "    </tr>\n",
       "  </tbody>\n",
       "</table>\n",
       "</div>"
      ],
      "text/plain": [
       "Fiscal Date Ending        2023        2021        2020        2019        2018\n",
       "Date                2023-06-11  2021-12-31  2020-12-31  2019-12-31  2018-12-31\n",
       "Stock price             13.740      19.540      10.530       8.840       8.710\n",
       "DCF                     20.002      24.710      16.884      13.247      12.938"
      ]
     },
     "execution_count": 73,
     "metadata": {},
     "output_type": "execute_result"
    }
   ],
   "source": [
    "openbb.stocks.fa.dcfc('F')"
   ]
  }
 ],
 "metadata": {
  "kernelspec": {
   "display_name": "Python 3 (ipykernel)",
   "language": "python",
   "name": "python3"
  },
  "language_info": {
   "codemirror_mode": {
    "name": "ipython",
    "version": 3
   },
   "file_extension": ".py",
   "mimetype": "text/x-python",
   "name": "python",
   "nbconvert_exporter": "python",
   "pygments_lexer": "ipython3",
   "version": "3.10.8"
  }
 },
 "nbformat": 4,
 "nbformat_minor": 5
}
