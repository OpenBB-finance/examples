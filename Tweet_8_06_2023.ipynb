{
 "cells": [
  {
   "cell_type": "markdown",
   "id": "a59d3f5c-f3ef-40d2-9e2a-cc757a281cae",
   "metadata": {},
   "source": [
    "<h1>Tweet 08-06-2023</h1>\n",
    "\n",
    "A DeFI vault is a collection of funds from many users pooled together and automatically invested based on an underlying strategy in the vault. \n",
    "\n",
    "The #OpenBB SDK provides data on this investment vehicle suited for small scale investors for free. Try it out!"
   ]
  },
  {
   "cell_type": "code",
   "execution_count": 36,
   "id": "8dc8ed0d-1f0c-4d40-98ba-fe6ab97a0412",
   "metadata": {},
   "outputs": [
    {
     "data": {
      "text/html": [
       "<pre style=\"white-space:pre;overflow-x:auto;line-height:normal;font-family:Menlo,'DejaVu Sans Mono',consolas,'Courier New',monospace\"><span style=\"font-style: italic\">                                              Top DeFi Vaults                                               </span>\n",
       "┏━━━━━━━━━━━━━━━┳━━━━━━━━━━━┳━━━━━━━━━━┳━━━━━━━━━┳━━━━━━━━━┳━━━━━━━━━━━━━━━━━━━━━━━━━━━━━━━━━━━━━━━━━━━━━━━┓\n",
       "┃<span style=\"font-weight: bold\"> Name          </span>┃<span style=\"font-weight: bold\"> Chain     </span>┃<span style=\"font-weight: bold\"> Protocol </span>┃<span style=\"font-weight: bold\"> APY (%) </span>┃<span style=\"font-weight: bold\"> TVL ($) </span>┃<span style=\"font-weight: bold\"> Link                                          </span>┃\n",
       "┡━━━━━━━━━━━━━━━╇━━━━━━━━━━━╇━━━━━━━━━━╇━━━━━━━━━╇━━━━━━━━━╇━━━━━━━━━━━━━━━━━━━━━━━━━━━━━━━━━━━━━━━━━━━━━━━┩\n",
       "│ BOB-WETH      │ Ethereum  │ Uniswap  │ 0.85    │ 1142195 │ https://api.nanoly.com/vaults/579660/redirect │\n",
       "├───────────────┼───────────┼──────────┼─────────┼─────────┼───────────────────────────────────────────────┤\n",
       "│ DAI-USDC-USDT │ Avalanche │ Curve    │ 0.89    │ 7283905 │ https://api.nanoly.com/vaults/17202/redirect  │\n",
       "├───────────────┼───────────┼──────────┼─────────┼─────────┼───────────────────────────────────────────────┤\n",
       "│ WETH-LBR      │ Ethereum  │ Uniswap  │ 0.89    │ 3755122 │ https://api.nanoly.com/vaults/606717/redirect │\n",
       "├───────────────┼───────────┼──────────┼─────────┼─────────┼───────────────────────────────────────────────┤\n",
       "│ GND-USDC      │ Arbitrum  │ Uniswap  │ 0.97    │ 2843151 │ https://api.nanoly.com/vaults/592338/redirect │\n",
       "├───────────────┼───────────┼──────────┼─────────┼─────────┼───────────────────────────────────────────────┤\n",
       "│ ARB-USDC      │ Arbitrum  │ Uniswap  │ 1.01    │ 4570864 │ https://api.nanoly.com/vaults/522336/redirect │\n",
       "├───────────────┼───────────┼──────────┼─────────┼─────────┼───────────────────────────────────────────────┤\n",
       "│ RDNT-WETH     │ Arbitrum  │ Uniswap  │ 1.02    │ 2418915 │ https://api.nanoly.com/vaults/520887/redirect │\n",
       "├───────────────┼───────────┼──────────┼─────────┼─────────┼───────────────────────────────────────────────┤\n",
       "│ RNDR-WETH     │ Ethereum  │ Uniswap  │ 1.03    │ 2581538 │ https://api.nanoly.com/vaults/272700/redirect │\n",
       "├───────────────┼───────────┼──────────┼─────────┼─────────┼───────────────────────────────────────────────┤\n",
       "│ beVELO        │ Optimism  │ Beefy    │ 1.19    │ 1144262 │ https://api.nanoly.com/vaults/361122/redirect │\n",
       "├───────────────┼───────────┼──────────┼─────────┼─────────┼───────────────────────────────────────────────┤\n",
       "│ PEPE-WETH     │ Ethereum  │ Uniswap  │ 1.28    │ 5338415 │ https://api.nanoly.com/vaults/579583/redirect │\n",
       "├───────────────┼───────────┼──────────┼─────────┼─────────┼───────────────────────────────────────────────┤\n",
       "│ COIL​-FRAXBP   │ Ethereum  │ Convex   │ 1.30    │ 1200000 │ https://api.nanoly.com/vaults/594309/redirect │\n",
       "└───────────────┴───────────┴──────────┴─────────┴─────────┴───────────────────────────────────────────────┘\n",
       "</pre>\n"
      ],
      "text/plain": [
       "\u001b[3m                                              Top DeFi Vaults                                               \u001b[0m\n",
       "┏━━━━━━━━━━━━━━━┳━━━━━━━━━━━┳━━━━━━━━━━┳━━━━━━━━━┳━━━━━━━━━┳━━━━━━━━━━━━━━━━━━━━━━━━━━━━━━━━━━━━━━━━━━━━━━━┓\n",
       "┃\u001b[1m \u001b[0m\u001b[1mName         \u001b[0m\u001b[1m \u001b[0m┃\u001b[1m \u001b[0m\u001b[1mChain    \u001b[0m\u001b[1m \u001b[0m┃\u001b[1m \u001b[0m\u001b[1mProtocol\u001b[0m\u001b[1m \u001b[0m┃\u001b[1m \u001b[0m\u001b[1mAPY (%)\u001b[0m\u001b[1m \u001b[0m┃\u001b[1m \u001b[0m\u001b[1mTVL ($)\u001b[0m\u001b[1m \u001b[0m┃\u001b[1m \u001b[0m\u001b[1mLink                                         \u001b[0m\u001b[1m \u001b[0m┃\n",
       "┡━━━━━━━━━━━━━━━╇━━━━━━━━━━━╇━━━━━━━━━━╇━━━━━━━━━╇━━━━━━━━━╇━━━━━━━━━━━━━━━━━━━━━━━━━━━━━━━━━━━━━━━━━━━━━━━┩\n",
       "│ BOB-WETH      │ Ethereum  │ Uniswap  │ 0.85    │ 1142195 │ https://api.nanoly.com/vaults/579660/redirect │\n",
       "├───────────────┼───────────┼──────────┼─────────┼─────────┼───────────────────────────────────────────────┤\n",
       "│ DAI-USDC-USDT │ Avalanche │ Curve    │ 0.89    │ 7283905 │ https://api.nanoly.com/vaults/17202/redirect  │\n",
       "├───────────────┼───────────┼──────────┼─────────┼─────────┼───────────────────────────────────────────────┤\n",
       "│ WETH-LBR      │ Ethereum  │ Uniswap  │ 0.89    │ 3755122 │ https://api.nanoly.com/vaults/606717/redirect │\n",
       "├───────────────┼───────────┼──────────┼─────────┼─────────┼───────────────────────────────────────────────┤\n",
       "│ GND-USDC      │ Arbitrum  │ Uniswap  │ 0.97    │ 2843151 │ https://api.nanoly.com/vaults/592338/redirect │\n",
       "├───────────────┼───────────┼──────────┼─────────┼─────────┼───────────────────────────────────────────────┤\n",
       "│ ARB-USDC      │ Arbitrum  │ Uniswap  │ 1.01    │ 4570864 │ https://api.nanoly.com/vaults/522336/redirect │\n",
       "├───────────────┼───────────┼──────────┼─────────┼─────────┼───────────────────────────────────────────────┤\n",
       "│ RDNT-WETH     │ Arbitrum  │ Uniswap  │ 1.02    │ 2418915 │ https://api.nanoly.com/vaults/520887/redirect │\n",
       "├───────────────┼───────────┼──────────┼─────────┼─────────┼───────────────────────────────────────────────┤\n",
       "│ RNDR-WETH     │ Ethereum  │ Uniswap  │ 1.03    │ 2581538 │ https://api.nanoly.com/vaults/272700/redirect │\n",
       "├───────────────┼───────────┼──────────┼─────────┼─────────┼───────────────────────────────────────────────┤\n",
       "│ beVELO        │ Optimism  │ Beefy    │ 1.19    │ 1144262 │ https://api.nanoly.com/vaults/361122/redirect │\n",
       "├───────────────┼───────────┼──────────┼─────────┼─────────┼───────────────────────────────────────────────┤\n",
       "│ PEPE-WETH     │ Ethereum  │ Uniswap  │ 1.28    │ 5338415 │ https://api.nanoly.com/vaults/579583/redirect │\n",
       "├───────────────┼───────────┼──────────┼─────────┼─────────┼───────────────────────────────────────────────┤\n",
       "│ COIL​-FRAXBP   │ Ethereum  │ Convex   │ 1.30    │ 1200000 │ https://api.nanoly.com/vaults/594309/redirect │\n",
       "└───────────────┴───────────┴──────────┴─────────┴─────────┴───────────────────────────────────────────────┘\n"
      ]
     },
     "metadata": {},
     "output_type": "display_data"
    }
   ],
   "source": [
    "openbb.crypto.defi.vaults_chart()"
   ]
  }
 ],
 "metadata": {
  "kernelspec": {
   "display_name": "Python 3 (ipykernel)",
   "language": "python",
   "name": "python3"
  },
  "language_info": {
   "codemirror_mode": {
    "name": "ipython",
    "version": 3
   },
   "file_extension": ".py",
   "mimetype": "text/x-python",
   "name": "python",
   "nbconvert_exporter": "python",
   "pygments_lexer": "ipython3",
   "version": "3.10.8"
  }
 },
 "nbformat": 4,
 "nbformat_minor": 5
}
