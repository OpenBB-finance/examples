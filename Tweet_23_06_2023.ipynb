{
 "cells": [
  {
   "cell_type": "code",
   "execution_count": null,
   "metadata": {},
   "outputs": [],
   "source": [
    "import streamlit as st \n",
    "from openbb_terminal.sdk import openbb\n",
    "import pandas as pd\n",
    "import plotly.graph_objects as go"
   ]
  },
  {
   "attachments": {},
   "cell_type": "markdown",
   "metadata": {},
   "source": [
    "<h1>Tweet 23_06_2023</h1>\n",
    "\n",
    "Users do not want to sift through an endless list of cryptocurrencies, decentralized exchanges, games, NFT, etc. \n",
    "\n",
    "Here's how you can add filter functionality on your dashboard for better User Experience."
   ]
  },
  {
   "attachments": {},
   "cell_type": "markdown",
   "metadata": {},
   "source": [
    "st.header(\"Custom Dashboard using OpenBB\")\n",
    "st.write(\"Discover all available coins in the Crypto market\")\n",
    "\n",
    "choice = st.selectbox(\n",
    "    label = \"Choose a Coin Category\",\n",
    "    options = pd.DataFrame(openbb.crypto.disc.categories_keys())\n",
    ")\n",
    "\n",
    "data = openbb.crypto.disc.coins(category = choice)\n",
    "st.write(data)"
   ]
  }
 ],
 "metadata": {
  "language_info": {
   "name": "python"
  },
  "orig_nbformat": 4
 },
 "nbformat": 4,
 "nbformat_minor": 2
}
