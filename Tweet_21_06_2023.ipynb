{
 "cells": [
  {
   "cell_type": "code",
   "execution_count": null,
   "metadata": {},
   "outputs": [],
   "source": [
    "import pandas as pd\n",
    "from openbb_terminal.sdk import openbb"
   ]
  },
  {
   "attachments": {},
   "cell_type": "markdown",
   "metadata": {},
   "source": [
    "<h1>Tweet 21-06-2023</h1>\n",
    "\n",
    "Sort through all coins listed on CoinGecko with exceeding ease now, with the #OpenBB SDK. Category keys help you identify the various classes of cryptocurrencies available, from asset-backed tokens to the Zilliqa ecosystem.\n",
    "\n",
    "Accessing raw financial data has never been faster. ⚡️"
   ]
  },
  {
   "cell_type": "code",
   "execution_count": null,
   "metadata": {},
   "outputs": [],
   "source": [
    "openbb.crypto.disc.categories_keys()"
   ]
  },
  {
   "cell_type": "code",
   "execution_count": null,
   "metadata": {},
   "outputs": [],
   "source": [
    "openbb.crypto.disc.coins_chart(category = 'gambling')"
   ]
  }
 ],
 "metadata": {
  "language_info": {
   "name": "python"
  },
  "orig_nbformat": 4
 },
 "nbformat": 4,
 "nbformat_minor": 2
}
