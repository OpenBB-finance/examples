{
 "cells": [
  {
   "cell_type": "code",
   "execution_count": null,
   "metadata": {},
   "outputs": [],
   "source": [
    "import pandas as pd\n",
    "from openbb_terminal.sdk import openbb"
   ]
  },
  {
   "attachments": {},
   "cell_type": "markdown",
   "metadata": {},
   "source": [
    "<h1>2nd Tweet 19-06-2023</h1>\n",
    "\n",
    "Investors demand compensation from each company for owning their stock, and bearing its risks.\n",
    "\n",
    "Referred to as the cost of equity, this metric is an essential part of the fundamental analysis process. Get it here, with the #OpenBB SDK.\n",
    "\n",
    "\n",
    "The output of 0.1619 implies that each $AAPL stock has an expected 16% return on its price, all other things held constant, of course."
   ]
  },
  {
   "cell_type": "code",
   "execution_count": null,
   "metadata": {},
   "outputs": [],
   "source": [
    "openbb.stocks.fa.fama_coe('aapl')"
   ]
  },
  {
   "cell_type": "code",
   "execution_count": null,
   "metadata": {},
   "outputs": [],
   "source": []
  }
 ],
 "metadata": {
  "language_info": {
   "name": "python"
  },
  "orig_nbformat": 4
 },
 "nbformat": 4,
 "nbformat_minor": 2
}
