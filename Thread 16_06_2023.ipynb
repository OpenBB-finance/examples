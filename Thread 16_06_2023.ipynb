{
 "cells": [
  {
   "cell_type": "code",
   "execution_count": 1,
   "id": "e17796e5-d4e5-4cd0-8ca9-ce628af714f6",
   "metadata": {},
   "outputs": [],
   "source": [
    "import pandas as pd\n",
    "from openbb_terminal.sdk import openbb"
   ]
  },
  {
   "attachments": {},
   "cell_type": "markdown",
   "id": "ba2bed2a-51c1-40fb-9cf8-8897bd1e33bc",
   "metadata": {},
   "source": [
    "<h1>Thread 16-06-2023</h1>\n",
    "\n",
    "Here's a neat trick to compare the fundamentals of a company in one single chart using the #OpenBB SDK.\n",
    "\n",
    "A 🧵\n",
    "1/5\n",
    "\n",
    "\n",
    "Enterprise information, from market cap details to total debt and real enterprise value can be found under the Fundamental analysis submodule of the SDK.\n",
    "2/5\n",
    "\n",
    "\n",
    "A call to the get_enterprise method with this line retrieves a dataframe of all these metrics over the lifetime of the company, or within the specified time range.\n",
    "3/5\n",
    "\n",
    "\n",
    "Here is where it gets interesting. \n",
    "\n",
    "Using the plot helper function in the forecast model, we can specify the columns we want to plot in order to compare, like so. Check it  out.\n",
    "4/5\n",
    "\n",
    "\n",
    "This is especially useful when trying to spot anomalies in the fundamental information about a company.\n",
    "\n",
    "Check out the docs at https://docs.openbb.co for more tips and guides.\n",
    "5/5"
   ]
  },
  {
   "cell_type": "code",
   "execution_count": null,
   "id": "b3faf1c9-4ff2-43ee-bed6-3e6be9f9534f",
   "metadata": {},
   "outputs": [],
   "source": [
    "data = openbb.stocks.fa.enterprise('aapl')\n",
    "\n",
    "data.tail(10)"
   ]
  },
  {
   "cell_type": "code",
   "execution_count": null,
   "id": "d5ae5d77-0c89-413e-977f-de21ed61d37b",
   "metadata": {},
   "outputs": [],
   "source": [
    "openbb.forecast.plot(data,  columns = ['Minus cash and cash equivalents', 'Market capitalization', 'Add total debt'])"
   ]
  }
 ],
 "metadata": {
  "kernelspec": {
   "display_name": "Python 3 (ipykernel)",
   "language": "python",
   "name": "python3"
  },
  "language_info": {
   "codemirror_mode": {
    "name": "ipython",
    "version": 3
   },
   "file_extension": ".py",
   "mimetype": "text/x-python",
   "name": "python",
   "nbconvert_exporter": "python",
   "pygments_lexer": "ipython3",
   "version": "3.10.8"
  }
 },
 "nbformat": 4,
 "nbformat_minor": 5
}
