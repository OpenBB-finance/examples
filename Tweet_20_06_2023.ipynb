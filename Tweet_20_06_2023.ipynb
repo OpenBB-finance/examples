{
 "cells": [
  {
   "cell_type": "code",
   "execution_count": null,
   "metadata": {},
   "outputs": [],
   "source": [
    "import pandas as pd\n",
    "from openbb_terminal.sdk import openbb"
   ]
  },
  {
   "attachments": {},
   "cell_type": "markdown",
   "metadata": {},
   "source": [
    "<h1>Tweet 20-06-2023</h1>\n",
    "\n",
    "Trend lines for high and low price values are useful analysis tools that help researchers detect the overall market direction at a glance.\n",
    "\n",
    "On the #OpenBB SDK, you can add these lines with the 'add_trend' flag set to true."
   ]
  },
  {
   "cell_type": "code",
   "execution_count": null,
   "metadata": {},
   "outputs": [],
   "source": [
    "openbb.stocks.candle(symbol = \"ETH-EUR\", start_date = '2020-01-01', add_trend = True)"
   ]
  }
 ],
 "metadata": {
  "language_info": {
   "name": "python"
  },
  "orig_nbformat": 4
 },
 "nbformat": 4,
 "nbformat_minor": 2
}
