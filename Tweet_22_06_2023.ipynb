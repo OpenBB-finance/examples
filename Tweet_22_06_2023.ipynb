{
 "cells": [
  {
   "cell_type": "code",
   "execution_count": null,
   "metadata": {},
   "outputs": [],
   "source": [
    "import streamlit as st \n",
    "from openbb_terminal.sdk import openbb\n",
    "import pandas as pd\n",
    "import plotly.graph_objects as go"
   ]
  },
  {
   "attachments": {},
   "cell_type": "markdown",
   "metadata": {},
   "source": [
    "<h1>Tweet 22-06-2023</h1>\n",
    "\n",
    "Export raw data and charts in seconds using the all-in-one SDK from #OpenBB.\n",
    "\n",
    "Allow users on your dashboard to analyze the data for themselves, and even receive a prediction report instantly. \n",
    "\n",
    "Accessing raw financial data has never been faster. ⚡️"
   ]
  },
  {
   "cell_type": "code",
   "execution_count": null,
   "metadata": {},
   "outputs": [],
   "source": [
    "st.write(\"Custom Dashboard using OpenBB\")\n",
    "\n",
    "\n",
    "st.table (data = openbb.stocks.disc.filings())"
   ]
  }
 ],
 "metadata": {
  "language_info": {
   "name": "python"
  },
  "orig_nbformat": 4
 },
 "nbformat": 4,
 "nbformat_minor": 2
}
