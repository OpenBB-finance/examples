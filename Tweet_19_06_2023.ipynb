{
 "cells": [
  {
   "cell_type": "code",
   "execution_count": null,
   "metadata": {},
   "outputs": [],
   "source": [
    "import pandas as pd\n",
    "from openbb_terminal.sdk import openbb"
   ]
  },
  {
   "attachments": {},
   "cell_type": "markdown",
   "metadata": {},
   "source": [
    "<h1>Tweet 19-06-2023</h1>\n",
    "\n",
    "By integrating multiple data sources in a single development interface, the #OpenBB SDK becomes an essential tool for researchers, students, devs and of course, investment analysts.\n",
    "\n",
    "This seamless integration can be felt in the crypto module, where you can search any keyword\n"
   ]
  },
  {
   "cell_type": "code",
   "execution_count": null,
   "metadata": {},
   "outputs": [],
   "source": [
    "openbb.crypto.disc.cpsearch_chart('spacex')"
   ]
  },
  {
   "cell_type": "code",
   "execution_count": null,
   "metadata": {},
   "outputs": [],
   "source": [
    "openbb.crypto.disc.coin_list()"
   ]
  }
 ],
 "metadata": {
  "language_info": {
   "name": "python"
  },
  "orig_nbformat": 4
 },
 "nbformat": 4,
 "nbformat_minor": 2
}
