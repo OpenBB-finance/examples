{
 "cells": [
  {
   "cell_type": "code",
   "execution_count": 1,
   "id": "5c810aed-6668-453f-89ac-5645097a9aba",
   "metadata": {
    "tags": []
   },
   "outputs": [],
   "source": [
    "from langchain.chains import LLMChain\n",
    "from langchain.prompts import PromptTemplate\n",
    "from langchain.chat_models import ChatOpenAI\n",
    "\n",
    "from dotenv import load_dotenv\n",
    "load_dotenv()\n",
    "\n",
    "from openbb_terminal.sdk import openbb\n",
    "\n",
    "llm = ChatOpenAI(model=\"gpt-4\", temperature=0)"
   ]
  },
  {
   "cell_type": "code",
   "execution_count": 2,
   "id": "b2b046d7-3435-4465-bd6d-86e0e5a77471",
   "metadata": {
    "tags": []
   },
   "outputs": [],
   "source": [
    "prompt = \"\"\"\n",
    "Is the sentiment in the text provided below positive, negative, or neutral?\n",
    "---------\n",
    "text: {statement}\n",
    "---------\n",
    "Respond with one word from among the following: positive, negative, or neutral.\n",
    "Sentiment:\n",
    "\"\"\"\n",
    "chain = LLMChain.from_string(\n",
    "    llm=llm,\n",
    "    template=prompt\n",
    ")"
   ]
  },
  {
   "cell_type": "code",
   "execution_count": 3,
   "id": "71f0e8ad-51dd-40a7-933a-cb59aaf73f70",
   "metadata": {
    "tags": []
   },
   "outputs": [
    {
     "data": {
      "text/html": [
       "<div>\n",
       "<style scoped>\n",
       "    .dataframe tbody tr th:only-of-type {\n",
       "        vertical-align: middle;\n",
       "    }\n",
       "\n",
       "    .dataframe tbody tr th {\n",
       "        vertical-align: top;\n",
       "    }\n",
       "\n",
       "    .dataframe thead th {\n",
       "        text-align: right;\n",
       "    }\n",
       "</style>\n",
       "<table border=\"1\" class=\"dataframe\">\n",
       "  <thead>\n",
       "    <tr style=\"text-align: right;\">\n",
       "      <th></th>\n",
       "      <th>Description</th>\n",
       "      <th>Sentiment</th>\n",
       "    </tr>\n",
       "  </thead>\n",
       "  <tbody>\n",
       "    <tr>\n",
       "      <th>25</th>\n",
       "      <td>Google expands AR try-on tech to hair color - ...</td>\n",
       "      <td>neutral</td>\n",
       "    </tr>\n",
       "    <tr>\n",
       "      <th>5</th>\n",
       "      <td>Google Podcasts shutdown: 4 great alternatives...</td>\n",
       "      <td>neutral</td>\n",
       "    </tr>\n",
       "    <tr>\n",
       "      <th>7</th>\n",
       "      <td>Google Pixel: Ava Donaldson on featuring creat...</td>\n",
       "      <td>neutral</td>\n",
       "    </tr>\n",
       "    <tr>\n",
       "      <th>53</th>\n",
       "      <td>Upcoming robotics workshop at Westview Middle,...</td>\n",
       "      <td>neutral</td>\n",
       "    </tr>\n",
       "    <tr>\n",
       "      <th>20</th>\n",
       "      <td>Google Search is having issues serving search ...</td>\n",
       "      <td>negative</td>\n",
       "    </tr>\n",
       "    <tr>\n",
       "      <th>19</th>\n",
       "      <td>I just spent $100 on Google Photos for a ridic...</td>\n",
       "      <td>negative</td>\n",
       "    </tr>\n",
       "    <tr>\n",
       "      <th>4</th>\n",
       "      <td>Google adds search themes to Performance Max -...</td>\n",
       "      <td>neutral</td>\n",
       "    </tr>\n",
       "    <tr>\n",
       "      <th>22</th>\n",
       "      <td>Google Maps new search results makes photos si...</td>\n",
       "      <td>neutral</td>\n",
       "    </tr>\n",
       "    <tr>\n",
       "      <th>1</th>\n",
       "      <td>Google’s search deal with Apple Safari is repo...</td>\n",
       "      <td>neutral</td>\n",
       "    </tr>\n",
       "    <tr>\n",
       "      <th>24</th>\n",
       "      <td>Forbes Launches New Generative AI Search Tool,...</td>\n",
       "      <td>neutral</td>\n",
       "    </tr>\n",
       "  </tbody>\n",
       "</table>\n",
       "</div>"
      ],
      "text/plain": [
       "                                          Description Sentiment\n",
       "25  Google expands AR try-on tech to hair color - ...   neutral\n",
       "5   Google Podcasts shutdown: 4 great alternatives...   neutral\n",
       "7   Google Pixel: Ava Donaldson on featuring creat...   neutral\n",
       "53  Upcoming robotics workshop at Westview Middle,...   neutral\n",
       "20  Google Search is having issues serving search ...  negative\n",
       "19  I just spent $100 on Google Photos for a ridic...  negative\n",
       "4   Google adds search themes to Performance Max -...   neutral\n",
       "22  Google Maps new search results makes photos si...   neutral\n",
       "1   Google’s search deal with Apple Safari is repo...   neutral\n",
       "24  Forbes Launches New Generative AI Search Tool,...   neutral"
      ]
     },
     "execution_count": 3,
     "metadata": {},
     "output_type": "execute_result"
    }
   ],
   "source": [
    "goog = openbb.news(\"Google\")\n",
    "\n",
    "goog[\"Sentiment\"] = goog.Description.apply(chain.run)\n",
    "\n",
    "goog[[\"Description\", \"Sentiment\"]]"
   ]
  },
  {
   "cell_type": "code",
   "execution_count": null,
   "id": "4802bf12-d965-4601-a96b-7805c4c33e89",
   "metadata": {},
   "outputs": [],
   "source": []
  }
 ],
 "metadata": {
  "kernelspec": {
   "display_name": "Python 3 (ipykernel)",
   "language": "python",
   "name": "python3"
  },
  "language_info": {
   "codemirror_mode": {
    "name": "ipython",
    "version": 3
   },
   "file_extension": ".py",
   "mimetype": "text/x-python",
   "name": "python",
   "nbconvert_exporter": "python",
   "pygments_lexer": "ipython3",
   "version": "3.9.13"
  }
 },
 "nbformat": 4,
 "nbformat_minor": 5
}
