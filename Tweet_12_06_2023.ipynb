{
 "cells": [
  {
   "cell_type": "code",
   "execution_count": null,
   "id": "c3f560f4",
   "metadata": {},
   "outputs": [],
   "source": [
    "import pandas as pd\n",
    "from openbb_terminal.sdk import openbb"
   ]
  },
  {
   "attachments": {},
   "cell_type": "markdown",
   "id": "a59d3f5c-f3ef-40d2-9e2a-cc757a281cae",
   "metadata": {},
   "source": [
    "<h1>Tweet 12-06-2023</h1>\n",
    "\n",
    "For a summary of all relevant metrics to a stock ticker, the #OpenBB SDK's fundamental analysis module is just the thing.\n",
    "\n",
    "You can even filter out only the key metrics as shown. Investment research has never been so accessible!"
   ]
  },
  {
   "cell_type": "code",
   "execution_count": null,
   "id": "8dc8ed0d-1f0c-4d40-98ba-fe6ab97a0412",
   "metadata": {},
   "outputs": [],
   "source": [
    "openbb.stocks.fa.metrics('tsla')"
   ]
  },
  {
   "cell_type": "code",
   "execution_count": null,
   "id": "b838e4f2",
   "metadata": {},
   "outputs": [],
   "source": [
    "openbb.stocks.fa.key('tsla')"
   ]
  }
 ],
 "metadata": {
  "kernelspec": {
   "display_name": "Python 3 (ipykernel)",
   "language": "python",
   "name": "python3"
  },
  "language_info": {
   "codemirror_mode": {
    "name": "ipython",
    "version": 3
   },
   "file_extension": ".py",
   "mimetype": "text/x-python",
   "name": "python",
   "nbconvert_exporter": "python",
   "pygments_lexer": "ipython3",
   "version": "3.10.8"
  }
 },
 "nbformat": 4,
 "nbformat_minor": 5
}
